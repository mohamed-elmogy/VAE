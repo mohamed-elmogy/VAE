{
 "cells": [
  {
   "cell_type": "code",
   "execution_count": null,
   "outputs": [],
   "source": [
    "import tensorflow as tf\n",
    "print(len(tf.config.list_physical_devices('GPU')))"
   ],
   "metadata": {
    "collapsed": false,
    "pycharm": {
     "name": "#%%\n",
     "is_executing": true
    }
   }
  },
  {
   "cell_type": "code",
   "execution_count": null,
   "outputs": [],
   "source": [
    "import keras\n",
    "import numpy as np\n",
    "from keras import backend as K\n",
    "from keras import layers as L\n",
    "from keras import losses\n",
    "from keras.models import Model\n",
    "from sklearn.model_selection import train_test_split"
   ],
   "metadata": {
    "collapsed": false,
    "pycharm": {
     "name": "#%%\n",
     "is_executing": true
    }
   }
  },
  {
   "cell_type": "code",
   "execution_count": 93,
   "outputs": [
    {
     "data": {
      "text/plain": "(224, 224, 3)"
     },
     "execution_count": 93,
     "metadata": {},
     "output_type": "execute_result"
    }
   ],
   "source": [
    "from skimage import io\n",
    "import os\n",
    "\n",
    "list_images = os.listdir(\"F:\\College\\Seventh\\GANS\\Sec\\CNN\\data1\")\n",
    "data = []\n",
    "for i in list_images:\n",
    "    data.append(io.imread(\"F:\\College\\Seventh\\GANS\\Sec\\CNN\\data1\\\\\" + i))\n",
    "data = np.array(data)\n",
    "data[0].shape"
   ],
   "metadata": {
    "collapsed": false,
    "pycharm": {
     "name": "#%%\n"
    }
   }
  },
  {
   "cell_type": "code",
   "execution_count": 94,
   "outputs": [],
   "source": [
    "latent_dim = 10\n",
    "original_dim = 224 * 224 * 3"
   ],
   "metadata": {
    "collapsed": false,
    "pycharm": {
     "name": "#%%\n"
    }
   }
  },
  {
   "cell_type": "code",
   "execution_count": 95,
   "outputs": [],
   "source": [
    "def sampling(args):\n",
    "    z_mean, z_log_sigma = args\n",
    "    epsilon = K.random_normal(shape=(K.shape(z_mean)[0], latent_dim),\n",
    "                              mean=0., stddev=0.1)\n",
    "    return z_mean + K.exp(z_log_sigma) * epsilon\n"
   ],
   "metadata": {
    "collapsed": false,
    "pycharm": {
     "name": "#%%\n"
    }
   }
  },
  {
   "cell_type": "code",
   "execution_count": 96,
   "outputs": [
    {
     "name": "stdout",
     "output_type": "stream",
     "text": [
      "Model: \"encoder\"\n",
      "__________________________________________________________________________________________________\n",
      " Layer (type)                   Output Shape         Param #     Connected to                     \n",
      "==================================================================================================\n",
      " input_15 (InputLayer)          [(None, 224, 224, 3  0           []                               \n",
      "                                )]                                                                \n",
      "                                                                                                  \n",
      " conv2d_70 (Conv2D)             (None, 224, 224, 12  3584        ['input_15[0][0]']               \n",
      "                                8)                                                                \n",
      "                                                                                                  \n",
      " max_pooling2d_56 (MaxPooling2D  (None, 112, 112, 12  0          ['conv2d_70[0][0]']              \n",
      " )                              8)                                                                \n",
      "                                                                                                  \n",
      " conv2d_71 (Conv2D)             (None, 112, 112, 64  73792       ['max_pooling2d_56[0][0]']       \n",
      "                                )                                                                 \n",
      "                                                                                                  \n",
      " max_pooling2d_57 (MaxPooling2D  (None, 56, 56, 64)  0           ['conv2d_71[0][0]']              \n",
      " )                                                                                                \n",
      "                                                                                                  \n",
      " conv2d_72 (Conv2D)             (None, 56, 56, 32)   18464       ['max_pooling2d_57[0][0]']       \n",
      "                                                                                                  \n",
      " max_pooling2d_58 (MaxPooling2D  (None, 28, 28, 32)  0           ['conv2d_72[0][0]']              \n",
      " )                                                                                                \n",
      "                                                                                                  \n",
      " conv2d_73 (Conv2D)             (None, 28, 28, 16)   4624        ['max_pooling2d_58[0][0]']       \n",
      "                                                                                                  \n",
      " max_pooling2d_59 (MaxPooling2D  (None, 14, 14, 16)  0           ['conv2d_73[0][0]']              \n",
      " )                                                                                                \n",
      "                                                                                                  \n",
      " conv2d_74 (Conv2D)             (None, 14, 14, 16)   2320        ['max_pooling2d_59[0][0]']       \n",
      "                                                                                                  \n",
      " flatten_14 (Flatten)           (None, 3136)         0           ['conv2d_74[0][0]']              \n",
      "                                                                                                  \n",
      " dense_52 (Dense)               (None, 32)           100384      ['flatten_14[0][0]']             \n",
      "                                                                                                  \n",
      " dense_53 (Dense)               (None, 10)           330         ['dense_52[0][0]']               \n",
      "                                                                                                  \n",
      " dense_54 (Dense)               (None, 10)           330         ['dense_52[0][0]']               \n",
      "                                                                                                  \n",
      " lambda_13 (Lambda)             (None, 10)           0           ['dense_53[0][0]',               \n",
      "                                                                  'dense_54[0][0]']               \n",
      "                                                                                                  \n",
      "==================================================================================================\n",
      "Total params: 203,828\n",
      "Trainable params: 203,828\n",
      "Non-trainable params: 0\n",
      "__________________________________________________________________________________________________\n"
     ]
    }
   ],
   "source": [
    "input_img = L.Input(shape=(224, 224, 3))\n",
    "\n",
    "############\n",
    "# Encoding #\n",
    "############\n",
    "\n",
    "x = L.Conv2D(128, (3, 3), activation='relu', padding='same')(input_img)\n",
    "x = L.MaxPooling2D((2, 2), padding='same')(x)\n",
    "x = L.Conv2D(64, (3, 3), activation='relu', padding='same')(x)\n",
    "x = L.MaxPooling2D((2, 2), padding='same')(x)\n",
    "x = L.Conv2D(32, (3, 3), activation='relu', padding='same')(x)\n",
    "x = L.MaxPooling2D((2, 2), padding='same')(x)\n",
    "x = L.Conv2D(16, (3, 3), activation='relu', padding='same')(x)\n",
    "x = L.MaxPooling2D((2, 2), padding='same')(x)\n",
    "x = L.Conv2D(16, (3, 3), activation='relu', padding='same')(x)\n",
    "x = L.Flatten()(x)\n",
    "h = L.Dense(32, activation='relu')(x)\n",
    "z_mean = L.Dense(latent_dim)(h)\n",
    "z_log_sigma = L.Dense(latent_dim)(h)\n",
    "z = L.Lambda(sampling)([z_mean, z_log_sigma])\n",
    "encoder = keras.Model(input_img, [z_mean, z_log_sigma, z], name='encoder')\n",
    "encoder.summary()"
   ],
   "metadata": {
    "collapsed": false,
    "pycharm": {
     "name": "#%%\n"
    }
   }
  },
  {
   "cell_type": "code",
   "execution_count": 97,
   "outputs": [
    {
     "name": "stdout",
     "output_type": "stream",
     "text": [
      "Model: \"decoder\"\n",
      "_________________________________________________________________\n",
      " Layer (type)                Output Shape              Param #   \n",
      "=================================================================\n",
      " z_sampling (InputLayer)     [(None, 10)]              0         \n",
      "                                                                 \n",
      " dense_55 (Dense)            (None, 3136)              34496     \n",
      "                                                                 \n",
      " reshape_9 (Reshape)         (None, 14, 14, 16)        0         \n",
      "                                                                 \n",
      " conv2d_transpose_33 (Conv2D  (None, 28, 28, 128)      18560     \n",
      " Transpose)                                                      \n",
      "                                                                 \n",
      " conv2d_transpose_34 (Conv2D  (None, 56, 56, 64)       73792     \n",
      " Transpose)                                                      \n",
      "                                                                 \n",
      " conv2d_transpose_35 (Conv2D  (None, 112, 112, 32)     18464     \n",
      " Transpose)                                                      \n",
      "                                                                 \n",
      " conv2d_transpose_36 (Conv2D  (None, 224, 224, 3)      867       \n",
      " Transpose)                                                      \n",
      "                                                                 \n",
      "=================================================================\n",
      "Total params: 146,179\n",
      "Trainable params: 146,179\n",
      "Non-trainable params: 0\n",
      "_________________________________________________________________\n"
     ]
    }
   ],
   "source": [
    "############\n",
    "# Decoding #\n",
    "############\n",
    "latent_inputs = keras.Input(shape=(latent_dim,), name='z_sampling')\n",
    "x=L.Dense(14*14*16,activation=\"relu\")(latent_inputs)\n",
    "x = L.Reshape((14,14,16))(x)\n",
    "x = L.Conv2DTranspose(128, (3, 3), strides=(2, 2), activation='relu', padding='same')(x)\n",
    "x = L.Conv2DTranspose(64, (3, 3), strides=(2, 2), activation='relu', padding='same')(x)\n",
    "x = L.Conv2DTranspose(32, (3, 3), strides=(2, 2), activation='relu', padding='same')(x)\n",
    "x = L.Conv2DTranspose(3, (3, 3), strides=(2, 2), activation='relu', padding='same')(x)\n",
    "decoder = keras.Model(latent_inputs, x, name='decoder')\n",
    "decoder.summary()"
   ],
   "metadata": {
    "collapsed": false,
    "pycharm": {
     "name": "#%%\n"
    }
   }
  },
  {
   "cell_type": "code",
   "execution_count": 98,
   "outputs": [
    {
     "name": "stdout",
     "output_type": "stream",
     "text": [
      "Model: \"model_6\"\n",
      "_________________________________________________________________\n",
      " Layer (type)                Output Shape              Param #   \n",
      "=================================================================\n",
      " input_15 (InputLayer)       [(None, 224, 224, 3)]     0         \n",
      "                                                                 \n",
      " encoder (Functional)        [(None, 10),              203828    \n",
      "                              (None, 10),                        \n",
      "                              (None, 10)]                        \n",
      "                                                                 \n",
      " decoder (Functional)        (None, 224, 224, 3)       146179    \n",
      "                                                                 \n",
      "=================================================================\n",
      "Total params: 350,007\n",
      "Trainable params: 350,007\n",
      "Non-trainable params: 0\n",
      "_________________________________________________________________\n"
     ]
    }
   ],
   "source": [
    "outputs = decoder(encoder(input_img )[2])\n",
    "VAE = Model(input_img, outputs)\n",
    "VAE.compile(optimizer='adam', loss='mean_squared_error')\n",
    "VAE.summary()"
   ],
   "metadata": {
    "collapsed": false,
    "pycharm": {
     "name": "#%%\n"
    }
   }
  },
  {
   "cell_type": "code",
   "execution_count": 99,
   "outputs": [],
   "source": [
    "reconstruction_loss = keras.losses.binary_crossentropy(input_img , outputs)\n",
    "reconstruction_loss *= original_dim\n",
    "kl_loss = 1 + z_log_sigma - K.square(z_mean) - K.exp(z_log_sigma)\n",
    "kl_loss = K.sum(kl_loss, axis=-1)\n",
    "kl_loss *= -0.5\n",
    "vae_loss = K.mean(reconstruction_loss + kl_loss)\n",
    "VAE.add_loss(vae_loss)"
   ],
   "metadata": {
    "collapsed": false,
    "pycharm": {
     "name": "#%%\n"
    }
   }
  },
  {
   "cell_type": "code",
   "execution_count": 100,
   "outputs": [
    {
     "name": "stdout",
     "output_type": "stream",
     "text": [
      "(51, 224, 224, 3)\n",
      "(51, 224, 224, 3)\n"
     ]
    }
   ],
   "source": [
    "x_train=x_test = data[0:51]\n",
    "\n",
    "\n",
    "x_train = x_train.astype('float32') / 255.\n",
    "x_test = x_test.astype('float32') / 255."
   ],
   "metadata": {
    "collapsed": false,
    "pycharm": {
     "name": "#%%\n"
    }
   }
  },
  {
   "cell_type": "code",
   "execution_count": null,
   "outputs": [
    {
     "name": "stdout",
     "output_type": "stream",
     "text": [
      "Epoch 1/3\n"
     ]
    }
   ],
   "source": [
    "VAE.fit(x_train,x_train,epochs=3,batch_size=10)"
   ],
   "metadata": {
    "collapsed": false,
    "pycharm": {
     "name": "#%%\n"
    }
   }
  },
  {
   "cell_type": "code",
   "execution_count": null,
   "outputs": [],
   "source": [],
   "metadata": {
    "collapsed": false,
    "pycharm": {
     "name": "#%%\n"
    }
   }
  }
 ],
 "metadata": {
  "kernelspec": {
   "display_name": "Python 3",
   "language": "python",
   "name": "python3"
  },
  "language_info": {
   "codemirror_mode": {
    "name": "ipython",
    "version": 2
   },
   "file_extension": ".py",
   "mimetype": "text/x-python",
   "name": "python",
   "nbconvert_exporter": "python",
   "pygments_lexer": "ipython2",
   "version": "2.7.6"
  }
 },
 "nbformat": 4,
 "nbformat_minor": 0
}